{
  "cells": [
    {
      "metadata": {
        "_cell_guid": "b1076dfc-b9ad-4769-8c92-a6c4dae69d19",
        "_uuid": "8f2839f25d086af736a60e9eeb907d3b93b6e0e5",
        "trusted": false,
        "collapsed": true
      },
      "cell_type": "code",
      "source": "# This Python 3 environment comes with many helpful analytics libraries installed\n# It is defined by the kaggle/python docker image: https://github.com/kaggle/docker-python\n# For example, here's several helpful packages to load in \n\nimport numpy as np # linear algebra\nimport pandas as pd # data processing, CSV file I/O (e.g. pd.read_csv)\nfrom sklearn.model_selection import cross_val_score\nfrom sklearn.model_selection import validation_curve\nfrom sklearn.preprocessing import MinMaxScaler\nfrom sklearn import feature_extraction\nfrom sklearn.svm import SVC\nfrom sklearn import preprocessing\nfrom sklearn.neural_network import MLPClassifier\nfrom sklearn.ensemble import RandomForestClassifier\n\n# Input data files are available in the \"../input/\" directory.\n# For example, running this (by clicking run or pressing Shift+Enter) will list the files in the input directory\n\nimport os\nprint(os.listdir(\"../input\"))\n\nitems = pd.read_csv('../input/items.csv')\nshops = pd.read_csv('../input/shops.csv')\nsales_train = pd.read_csv('../input/sales_train.csv')\ntest = pd.read_csv('../input/test.csv')\nitem_categories = pd.read_csv('../input/item_categories.csv')\nsample_submission = pd.read_csv('../input/sample_submission.csv')\n\nitem_categories.head()\n# Any results you write to the current directory are saved as output.",
      "execution_count": null,
      "outputs": []
    },
    {
      "metadata": {
        "_cell_guid": "79c7e3d0-c299-4dcb-8224-4455121ee9b0",
        "_uuid": "d629ff2d2480ee46fbb7e2d37f6b5fab8052498a",
        "trusted": false,
        "collapsed": true
      },
      "cell_type": "code",
      "source": "feature_cnt = 25\ntfidf = feature_extraction.text.TfidfVectorizer(max_features=feature_cnt)\n\nitems['item_name_len'] = items['item_name'].map(len)\nitems['item_name_wc'] = items['item_name'].map(lambda x: len(list(filter(lambda a: a != '',str(x).split(' ')))))\ntxtFeatures = pd.DataFrame(tfidf.fit_transform(items['item_name']).toarray())\n\nfor i in txtFeatures.columns:\n    items['item_name_'+str(i)] = txtFeatures[i]\nitems.head()",
      "execution_count": null,
      "outputs": []
    },
    {
      "metadata": {
        "_cell_guid": "96e4e85c-8995-4eaa-a329-dbdf7554dee4",
        "_uuid": "7cba4383047b7f23b9359004f475038417ec5205",
        "trusted": false,
        "collapsed": true
      },
      "cell_type": "code",
      "source": "feature_cnt = 25\ntfidf = feature_extraction.text.TfidfVectorizer(max_features=feature_cnt)\n\nshops['shop_name_len'] = shops['shop_name'].map(len)\nshops['shop_name_wc'] = shops['shop_name'].map(lambda x: len(list(filter(lambda a: a != '',str(x).split(' ')))))\ntxtFeatures = pd.DataFrame(tfidf.fit_transform(shops['shop_name']).toarray())\n\nfor i in txtFeatures.columns:\n    shops['shop_name_'+str(i)] = txtFeatures[i]\nshops.head()",
      "execution_count": null,
      "outputs": []
    },
    {
      "metadata": {
        "_cell_guid": "7f33057c-9ead-4de3-87a4-449d5fe485d5",
        "_uuid": "da649388eb54ef7c18d8ecb16908641274d74e4b",
        "trusted": false,
        "collapsed": true
      },
      "cell_type": "code",
      "source": "feature_cnt = 25\ntfidf = feature_extraction.text.TfidfVectorizer(max_features=feature_cnt)\n\nitem_categories['category_len'] = item_categories['item_category_name'].map(len)\nitem_categories['category_wc'] = item_categories['item_category_name'].map(lambda x: len(list(filter(lambda a: a != '',str(x).split(' ')))))\ntxtFeatures = pd.DataFrame(tfidf.fit_transform(item_categories['item_category_name']).toarray())\n\nfor i in txtFeatures.columns:\n    item_categories['category_name_'+str(i)] = txtFeatures[i]\nitem_categories.head()",
      "execution_count": null,
      "outputs": []
    },
    {
      "metadata": {
        "_cell_guid": "ddb7140b-469d-4261-ba43-010c1a0db878",
        "_uuid": "6b06a94f0b3eac0061b77103e704eb6bc95a3793",
        "collapsed": true,
        "trusted": false
      },
      "cell_type": "code",
      "source": "",
      "execution_count": null,
      "outputs": []
    }
  ],
  "metadata": {
    "kernelspec": {
      "display_name": "Python 3",
      "language": "python",
      "name": "python3"
    },
    "language_info": {
      "codemirror_mode": {
        "version": 3,
        "name": "ipython"
      },
      "version": "3.6.4",
      "nbconvert_exporter": "python",
      "file_extension": ".py",
      "pygments_lexer": "ipython3",
      "name": "python",
      "mimetype": "text/x-python"
    }
  },
  "nbformat": 4,
  "nbformat_minor": 1
}